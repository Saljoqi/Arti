{
 "cells": [
  {
   "cell_type": "code",
   "execution_count": null,
   "id": "b7480444",
   "metadata": {},
   "outputs": [],
   "source": [
    "import numpy as np\n",
    "\n",
    "class Environment:\n",
    "    # this __init__ method will make a 2*2 grid from the passed parameters which are nothing but status( clean or dirty)\n",
    "    def __init__(self,a,b,c,d):\n",
    "        self.a = a\n",
    "        self.b = b\n",
    "        self.c = c\n",
    "        self.d = d\n",
    "        self.grid = [[self.a,self.b],[self.c,self.d]]\n",
    "        \n",
    "    # To get the index of any element from the nested list , we will use the following get_index() method, which is not \n",
    "    # directly the part of VaccumCleanerAgent but it is used in my logic which is written below.\n",
    "    def get_index(self, nestedlist, target):\n",
    "        for i, sublist in enumerate(nestedlist):\n",
    "            if target in sublist:\n",
    "                return True\n",
    "            \n",
    "    # isEven() method is used in my logic, so that's why i defined it there.        \n",
    "    def isEven(self, num):\n",
    "        return num % 2== 0\n",
    "    \n",
    "    # Status() method is used to check the status of our enevironment as 'clean' or 'dirty'\n",
    "    \n",
    "    def Status(self):\n",
    "        if self.get_index(self.grid, 'dirty') == True:\n",
    "            return f\"Cells are dirty {self.grid}\"\n",
    "        else:\n",
    "            return f\"Cells are clean {self.grid}\"\n",
    "\n",
    "class VaccumCleanerAgent(Environment):\n",
    "    \n",
    "    #This sense_and_act method will do 2 things:\n",
    "    # 1) check the location status ( dirty or clean ) if dirty then clean it by sucking the dirt and move to next cell.\n",
    "    # 2) Move to next cell in the grid if current cell is already clean.\n",
    "    def sense_and_act(self):\n",
    "        grid_size = 4\n",
    "        j = 0\n",
    "        k = 0\n",
    "        sqrt = int(np.sqrt(grid_size))\n",
    "        current_loc = [j][k]\n",
    "        \n",
    "        for i in range(grid_size):\n",
    "            \n",
    "            j = i//sqrt\n",
    "            \n",
    "            if self.isEven(j) == True:\n",
    "                if self.grid[j][k]  == 'dirty':\n",
    "                    print(f\"Suck the dirtiness from   location {j,k} and move to next location\")\n",
    "                    self.grid[j][k] = 'clean'\n",
    "                    k= k+1\n",
    "                \n",
    "                elif self.grid[j][k] == 'clean':\n",
    "                    print(f\"Move to next location {j,k}\")\n",
    "                    k=k+1\n",
    "                    \n",
    "            else:\n",
    "                k=k-1\n",
    "                if self.grid[j][k] == 'dirty':\n",
    "                    print(f\"Suck the dirtiness from  location {j,k} and move to next location \")\n",
    "                    self.grid[j][k] = 'clean'\n",
    "                \n",
    "                elif self.grid[j][k] == 'clean':\n",
    "                    print(f\"Move to next location {j,k}\")\n",
    "            \n",
    "            \n",
    "            \n",
    "            \n",
    "        \n",
    "        \n",
    "        "
   ]
  },
  {
   "cell_type": "code",
   "execution_count": 38,
   "id": "c9987cf3",
   "metadata": {},
   "outputs": [],
   "source": [
    "vaccumCleaner = VaccumCleanerAgent('clean','dirty','dirty','clean')"
   ]
  },
  {
   "cell_type": "code",
   "execution_count": 39,
   "id": "6cf0e44b",
   "metadata": {},
   "outputs": [
    {
     "data": {
      "text/plain": [
       "\"Cells are dirty [['clean', 'dirty'], ['dirty', 'clean']]\""
      ]
     },
     "execution_count": 39,
     "metadata": {},
     "output_type": "execute_result"
    }
   ],
   "source": [
    "vaccumCleaner.Status()"
   ]
  },
  {
   "cell_type": "code",
   "execution_count": 40,
   "id": "6dd4cf01",
   "metadata": {},
   "outputs": [
    {
     "name": "stdout",
     "output_type": "stream",
     "text": [
      "Move to next location (0, 0)\n",
      "Suck the dirtiness from   location (0, 1) and move to next location\n",
      "Move to next location (1, 1)\n",
      "Suck the dirtiness from  location (1, 0) and move to next location \n"
     ]
    }
   ],
   "source": [
    "vaccumCleaner.sense_and_act()"
   ]
  },
  {
   "cell_type": "code",
   "execution_count": 41,
   "id": "256abf7b",
   "metadata": {},
   "outputs": [
    {
     "data": {
      "text/plain": [
       "\"Cells are clean [['clean', 'clean'], ['clean', 'clean']]\""
      ]
     },
     "execution_count": 41,
     "metadata": {},
     "output_type": "execute_result"
    }
   ],
   "source": [
    "vaccumCleaner.Status()"
   ]
  },
  {
   "cell_type": "code",
   "execution_count": null,
   "id": "8f4d466b",
   "metadata": {},
   "outputs": [],
   "source": []
  }
 ],
 "metadata": {
  "kernelspec": {
   "display_name": "Python 3 (ipykernel)",
   "language": "python",
   "name": "python3"
  },
  "language_info": {
   "codemirror_mode": {
    "name": "ipython",
    "version": 3
   },
   "file_extension": ".py",
   "mimetype": "text/x-python",
   "name": "python",
   "nbconvert_exporter": "python",
   "pygments_lexer": "ipython3",
   "version": "3.11.5"
  }
 },
 "nbformat": 4,
 "nbformat_minor": 5
}
